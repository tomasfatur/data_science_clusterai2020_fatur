{
  "nbformat": 4,
  "nbformat_minor": 0,
  "metadata": {
    "kernelspec": {
      "display_name": "Python 3",
      "language": "python",
      "name": "python3"
    },
    "language_info": {
      "codemirror_mode": {
        "name": "ipython",
        "version": 3
      },
      "file_extension": ".py",
      "mimetype": "text/x-python",
      "name": "python",
      "nbconvert_exporter": "python",
      "pygments_lexer": "ipython3",
      "version": "3.7.6"
    },
    "colab": {
      "name": "Machine Learning 2.ipynb",
      "provenance": [],
      "collapsed_sections": []
    }
  },
  "cells": [
    {
      "cell_type": "code",
      "metadata": {
        "id": "_pHyG8iX7FtR"
      },
      "source": [
        "import numpy as np\n",
        "import pandas as pd\n",
        "import matplotlib.pyplot as plt\n",
        "import seaborn as sns\n",
        "from IPython.display import Image\n",
        "from sklearn import preprocessing\n",
        "from sklearn.model_selection import train_test_split\n",
        "from sklearn.linear_model import LinearRegression\n",
        "from sklearn.svm import SVR\n",
        "from sklearn.svm import LinearSVR\n",
        "from sklearn.neighbors import KNeighborsRegressor\n",
        "from sklearn.metrics import r2_score, mean_squared_error, mean_absolute_error\n",
        "import warnings\n",
        "warnings.filterwarnings('ignore')\n",
        "\n",
        "from sklearn.model_selection import GridSearchCV"
      ],
      "execution_count": null,
      "outputs": []
    },
    {
      "cell_type": "code",
      "metadata": {
        "id": "9Do5WPPe7FtV",
        "outputId": "44892674-e2bb-46ed-e473-288ef06f19f3",
        "colab": {
          "base_uri": "https://localhost:8080/"
        }
      },
      "source": [
        "from google.colab import drive\n",
        "drive.mount('/content/drive')"
      ],
      "execution_count": null,
      "outputs": [
        {
          "output_type": "stream",
          "text": [
            "Mounted at /content/drive\n"
          ],
          "name": "stdout"
        }
      ]
    },
    {
      "cell_type": "code",
      "metadata": {
        "id": "4RErFYDn7rOE",
        "outputId": "c89d0c36-5ded-458e-90c1-f5e7a92d5458",
        "colab": {
          "base_uri": "https://localhost:8080/"
        }
      },
      "source": [
        "%cd /content/drive/My Drive/Ciencia de datos TP"
      ],
      "execution_count": null,
      "outputs": [
        {
          "output_type": "stream",
          "text": [
            "/content/drive/.shortcut-targets-by-id/1Zts-l0lnVaaTin8zIMuKBguRsve-NFs3/Ciencia de datos TP\n"
          ],
          "name": "stdout"
        }
      ]
    },
    {
      "cell_type": "code",
      "metadata": {
        "id": "POI3hBFT7tQK"
      },
      "source": [
        "riesgo = pd.read_csv('/content/drive/.shortcut-targets-by-id/1Zts-l0lnVaaTin8zIMuKBguRsve-NFs3/Ciencia de datos TP/factorderiesgo.csv', delimiter=';')\n"
      ],
      "execution_count": null,
      "outputs": []
    },
    {
      "cell_type": "code",
      "metadata": {
        "id": "HaVEePX47FtY"
      },
      "source": [
        "\n",
        "riesgo_tp=riesgo[['cod_provincia', 'bhcv01', 'tipo_hogar', 'bhih01', 'bhih03', 'bhch03', 'bhch04', 'bhch05', 'nivel_instruccion', 'condicion_actividad', 'bisg01', 'cobertura_salud','biaf01', 'barreras_actividad_fisica','bita01','biha03', 'bima10', 'bima07', 'bial05','bial08','bico03','bica01','bidi01','imc_bima','promedio_sistolica','promedio_diastolica','ta_elevada']]\n",
        "#sacamos id porque no es util para el analisis"
      ],
      "execution_count": null,
      "outputs": []
    },
    {
      "cell_type": "code",
      "metadata": {
        "id": "Z-PU4HmW7Ftc"
      },
      "source": [
        "#Renombramos columnas\n",
        "riesgo_tp.rename(columns={\"bhcv01\":\"Tipo_Vivienda\",\"bhih01\":\"Ingresos_Hogar\",\"bhih03\":\"AUH\",\"bhch03\":\"Sexo\",\"bhch04\":\"Edad\", \"bhch05\":\"Situacion_Conyugal\",\"bisg01\":\"Salud_General\",\"biaf01\":\"Actividad_Fisica_PorSemana\",\"bita01\":\"Fumo_Cigarrillo\",\"biha03\":\"Cantidad_Diagnosticos_PresionAlta\", \"bima10\":\"Peso\", \"bima07\":\"Altura\", \"bial05\":\"Cantidad_Dias_Verdura\", \"bial08\":\"Alimentacion\", \"bico03\":\"Colesterol\", \"bica01\":\"Bebio_Alcohol\", \"bidi01\":\"Diabetes\",\"imc_bima\":\"Masa_Corporal\",\"ta_elevada\":\"Presion_Arterial\"}, inplace=True)\n"
      ],
      "execution_count": null,
      "outputs": []
    },
    {
      "cell_type": "code",
      "metadata": {
        "id": "kyztSoNp7Ftg",
        "outputId": "02482559-8788-456a-e011-f311d3911c6a",
        "colab": {
          "base_uri": "https://localhost:8080/"
        }
      },
      "source": [
        "riesgo_tp.shape"
      ],
      "execution_count": null,
      "outputs": [
        {
          "output_type": "execute_result",
          "data": {
            "text/plain": [
              "(29224, 27)"
            ]
          },
          "metadata": {
            "tags": []
          },
          "execution_count": 7
        }
      ]
    },
    {
      "cell_type": "code",
      "metadata": {
        "id": "NMvhvrWb7Fti",
        "outputId": "a5e436d5-e82f-470b-bbc1-771ee08a9a58",
        "colab": {
          "base_uri": "https://localhost:8080/",
          "height": 224
        }
      },
      "source": [
        "riesgo_tp.head()"
      ],
      "execution_count": null,
      "outputs": [
        {
          "output_type": "execute_result",
          "data": {
            "text/html": [
              "<div>\n",
              "<style scoped>\n",
              "    .dataframe tbody tr th:only-of-type {\n",
              "        vertical-align: middle;\n",
              "    }\n",
              "\n",
              "    .dataframe tbody tr th {\n",
              "        vertical-align: top;\n",
              "    }\n",
              "\n",
              "    .dataframe thead th {\n",
              "        text-align: right;\n",
              "    }\n",
              "</style>\n",
              "<table border=\"1\" class=\"dataframe\">\n",
              "  <thead>\n",
              "    <tr style=\"text-align: right;\">\n",
              "      <th></th>\n",
              "      <th>cod_provincia</th>\n",
              "      <th>Tipo_Vivienda</th>\n",
              "      <th>tipo_hogar</th>\n",
              "      <th>Ingresos_Hogar</th>\n",
              "      <th>AUH</th>\n",
              "      <th>Sexo</th>\n",
              "      <th>Edad</th>\n",
              "      <th>Situacion_Conyugal</th>\n",
              "      <th>nivel_instruccion</th>\n",
              "      <th>condicion_actividad</th>\n",
              "      <th>Salud_General</th>\n",
              "      <th>cobertura_salud</th>\n",
              "      <th>Actividad_Fisica_PorSemana</th>\n",
              "      <th>barreras_actividad_fisica</th>\n",
              "      <th>Fumo_Cigarrillo</th>\n",
              "      <th>Cantidad_Diagnosticos_PresionAlta</th>\n",
              "      <th>Peso</th>\n",
              "      <th>Altura</th>\n",
              "      <th>Cantidad_Dias_Verdura</th>\n",
              "      <th>Alimentacion</th>\n",
              "      <th>Colesterol</th>\n",
              "      <th>Bebio_Alcohol</th>\n",
              "      <th>Diabetes</th>\n",
              "      <th>Masa_Corporal</th>\n",
              "      <th>promedio_sistolica</th>\n",
              "      <th>promedio_diastolica</th>\n",
              "      <th>Presion_Arterial</th>\n",
              "    </tr>\n",
              "  </thead>\n",
              "  <tbody>\n",
              "    <tr>\n",
              "      <th>0</th>\n",
              "      <td>2</td>\n",
              "      <td>3</td>\n",
              "      <td>2</td>\n",
              "      <td>50000</td>\n",
              "      <td>2</td>\n",
              "      <td>1</td>\n",
              "      <td>32</td>\n",
              "      <td>6</td>\n",
              "      <td>7</td>\n",
              "      <td>1</td>\n",
              "      <td>3</td>\n",
              "      <td>2</td>\n",
              "      <td>4</td>\n",
              "      <td>1</td>\n",
              "      <td>2</td>\n",
              "      <td>3</td>\n",
              "      <td>106.0</td>\n",
              "      <td>181.0</td>\n",
              "      <td>7.0</td>\n",
              "      <td>2</td>\n",
              "      <td>2</td>\n",
              "      <td>1</td>\n",
              "      <td>2</td>\n",
              "      <td>32.36</td>\n",
              "      <td>147.5</td>\n",
              "      <td>98.5</td>\n",
              "      <td>1.0</td>\n",
              "    </tr>\n",
              "    <tr>\n",
              "      <th>1</th>\n",
              "      <td>2</td>\n",
              "      <td>1</td>\n",
              "      <td>4</td>\n",
              "      <td>40000</td>\n",
              "      <td>2</td>\n",
              "      <td>2</td>\n",
              "      <td>65</td>\n",
              "      <td>2</td>\n",
              "      <td>7</td>\n",
              "      <td>1</td>\n",
              "      <td>1</td>\n",
              "      <td>1</td>\n",
              "      <td>3</td>\n",
              "      <td>1</td>\n",
              "      <td>1</td>\n",
              "      <td>3</td>\n",
              "      <td>NaN</td>\n",
              "      <td>NaN</td>\n",
              "      <td>5.0</td>\n",
              "      <td>2</td>\n",
              "      <td>1</td>\n",
              "      <td>1</td>\n",
              "      <td>2</td>\n",
              "      <td>NaN</td>\n",
              "      <td>NaN</td>\n",
              "      <td>NaN</td>\n",
              "      <td>NaN</td>\n",
              "    </tr>\n",
              "    <tr>\n",
              "      <th>2</th>\n",
              "      <td>2</td>\n",
              "      <td>3</td>\n",
              "      <td>2</td>\n",
              "      <td>40000</td>\n",
              "      <td>2</td>\n",
              "      <td>2</td>\n",
              "      <td>33</td>\n",
              "      <td>6</td>\n",
              "      <td>7</td>\n",
              "      <td>1</td>\n",
              "      <td>2</td>\n",
              "      <td>1</td>\n",
              "      <td>0</td>\n",
              "      <td>9</td>\n",
              "      <td>1</td>\n",
              "      <td>3</td>\n",
              "      <td>NaN</td>\n",
              "      <td>NaN</td>\n",
              "      <td>5.0</td>\n",
              "      <td>2</td>\n",
              "      <td>2</td>\n",
              "      <td>1</td>\n",
              "      <td>2</td>\n",
              "      <td>NaN</td>\n",
              "      <td>NaN</td>\n",
              "      <td>NaN</td>\n",
              "      <td>NaN</td>\n",
              "    </tr>\n",
              "    <tr>\n",
              "      <th>3</th>\n",
              "      <td>2</td>\n",
              "      <td>3</td>\n",
              "      <td>1</td>\n",
              "      <td>80000</td>\n",
              "      <td>2</td>\n",
              "      <td>2</td>\n",
              "      <td>64</td>\n",
              "      <td>3</td>\n",
              "      <td>7</td>\n",
              "      <td>1</td>\n",
              "      <td>3</td>\n",
              "      <td>1</td>\n",
              "      <td>0</td>\n",
              "      <td>1</td>\n",
              "      <td>1</td>\n",
              "      <td>3</td>\n",
              "      <td>NaN</td>\n",
              "      <td>NaN</td>\n",
              "      <td>7.0</td>\n",
              "      <td>2</td>\n",
              "      <td>1</td>\n",
              "      <td>1</td>\n",
              "      <td>2</td>\n",
              "      <td>NaN</td>\n",
              "      <td>NaN</td>\n",
              "      <td>NaN</td>\n",
              "      <td>NaN</td>\n",
              "    </tr>\n",
              "    <tr>\n",
              "      <th>4</th>\n",
              "      <td>2</td>\n",
              "      <td>3</td>\n",
              "      <td>8</td>\n",
              "      <td>30000</td>\n",
              "      <td>2</td>\n",
              "      <td>1</td>\n",
              "      <td>24</td>\n",
              "      <td>6</td>\n",
              "      <td>5</td>\n",
              "      <td>1</td>\n",
              "      <td>3</td>\n",
              "      <td>1</td>\n",
              "      <td>0</td>\n",
              "      <td>1</td>\n",
              "      <td>1</td>\n",
              "      <td>3</td>\n",
              "      <td>NaN</td>\n",
              "      <td>NaN</td>\n",
              "      <td>3.0</td>\n",
              "      <td>2</td>\n",
              "      <td>2</td>\n",
              "      <td>1</td>\n",
              "      <td>2</td>\n",
              "      <td>NaN</td>\n",
              "      <td>NaN</td>\n",
              "      <td>NaN</td>\n",
              "      <td>NaN</td>\n",
              "    </tr>\n",
              "  </tbody>\n",
              "</table>\n",
              "</div>"
            ],
            "text/plain": [
              "   cod_provincia  Tipo_Vivienda  ...  promedio_diastolica  Presion_Arterial\n",
              "0              2              3  ...                 98.5               1.0\n",
              "1              2              1  ...                  NaN               NaN\n",
              "2              2              3  ...                  NaN               NaN\n",
              "3              2              3  ...                  NaN               NaN\n",
              "4              2              3  ...                  NaN               NaN\n",
              "\n",
              "[5 rows x 27 columns]"
            ]
          },
          "metadata": {
            "tags": []
          },
          "execution_count": 8
        }
      ]
    },
    {
      "cell_type": "code",
      "metadata": {
        "id": "o4RZSOWd7Ftn"
      },
      "source": [
        "riesgo_tp['cod_provincia'] = riesgo_tp['cod_provincia'].map({2 : 'Ciudad de Buenos Aires' ,6 : 'Buenos Aires',10 : 'Catamarca',14 : 'Cordoba',18 : 'Corrientes',22 : 'Chaco',26 : 'Chubut',30 : 'Entre Rios',34 : 'Formosa',38 : 'Jujuy',42 : 'La Pampa',46 : 'La Rioja',50 : 'Mendoza',54 : 'Misiones',58 : 'Neuquen',62 : 'Rio Negro',66 : 'Salta',70 : 'San Juan',74 : 'San Luis',78 : 'Santa Cruz',82 : 'Santa Fe',86 : 'Santiago del Estero',90 : 'Tucuman',94 : 'Tierra del Fuego'})\n",
        "riesgo_tp['Tipo_Vivienda'] = riesgo_tp['Tipo_Vivienda'].map({1 : 'Casa' ,2 : 'Casilla',3 : 'Departamento',4 : 'Pieza de inquilinato',5 : 'Pieza en hotel o pensión',6 : 'Local no construido para habitación',7 : 'Otros'})\n",
        "riesgo_tp['tipo_hogar'] = riesgo_tp['tipo_hogar'].map({1 : 'Hogar unipersonal' ,2 : 'Cony completo s/hijos ni otros',3 : 'Cony completo s/hijos y c/otros',4 : 'Cony completo c/hijos s/otros',5 : 'Cony completo c/hijos y otros',6 : 'Cony incompleto sin otros',7 : 'Cony incompleto c/otros',8 : 'No conyugal'})\n",
        "riesgo_tp['AUH'] = riesgo_tp['AUH'].map({1 : 'Si' ,2 : 'No',99 : 'NS/NC'})\n",
        "riesgo_tp['Sexo'] = riesgo_tp['Sexo'].map({1 : 'Hombre' ,2 : 'Mujer'})\n",
        "riesgo_tp['Situacion_Conyugal'] = riesgo_tp['Situacion_Conyugal'].map({1 : 'Unido/a' ,2 : 'Casado/a',3 : 'Separado/a',4 : 'Divorciado/a',5 : 'Viudo/a',6 : 'Soltero/a'})\n",
        "riesgo_tp['nivel_instruccion'] = riesgo_tp['nivel_instruccion'].map({1 : 'Sin instrucción' ,2 : 'Primario incompleto',3 : 'Primario completo',4 : 'Secundario incompleto',5 : 'Secundario completo',6 : 'Terciario/universitario incompleto',7 : 'Terciario/universitario completo',8 : 'Educación especial'})\n",
        "riesgo_tp['Cantidad_Diagnosticos_PresionAlta'] = riesgo_tp['Cantidad_Diagnosticos_PresionAlta'].map({1 : 'Sólo 1 vez' ,2 : 'Más de 1 vez',3 : 'Ninguna',99 : 'NS/NC'})\n",
        "riesgo_tp['Alimentacion'] = riesgo_tp['Alimentacion'].map({1 : 'Muy saludable' ,2 : 'Bastante saludable',3 : 'Poco saludable',4 : 'Nada saludable',99 : 'NS/NC'})\n",
        "riesgo_tp['Colesterol'] = riesgo_tp['Colesterol'].map({1 : 'Si' ,2 : 'No',99 : 'NS/NC'})\n",
        "riesgo_tp['condicion_actividad'] = riesgo_tp['condicion_actividad'].map({1 : 'Ocupado' ,2 : 'Desocupado',3 : 'Inactivo'})\n",
        "riesgo_tp['Salud_General'] = riesgo_tp['Salud_General'].map({1 : 'Excelente' ,2 : 'Muy buena',3 : 'Buena',4 : 'Regular',5 : 'Mala'})\n",
        "riesgo_tp['Fumo_Cigarrillo'] = riesgo_tp['Fumo_Cigarrillo'].map({1 : 'Si' ,2 : 'No'})\n",
        "riesgo_tp['Bebio_Alcohol'] = riesgo_tp['Bebio_Alcohol'].map({1 : 'Si' ,2 : 'No',99 : 'NS/NC'})\n",
        "riesgo_tp['Diabetes'] = riesgo_tp['Diabetes'].map({1 : 'Si' ,2 : 'No',99 : 'NS/NC'})\n",
        "riesgo_tp['Presion_Arterial'] = riesgo_tp['Presion_Arterial'].map({1 : 'Elevada' ,2 : 'No elevada'})"
      ],
      "execution_count": null,
      "outputs": []
    },
    {
      "cell_type": "code",
      "metadata": {
        "id": "bWr_M1CG7Fts"
      },
      "source": [
        "riesgo_tp.dropna(how ='any', inplace = True)"
      ],
      "execution_count": null,
      "outputs": []
    },
    {
      "cell_type": "code",
      "metadata": {
        "id": "QIEAZFTL7Ftv",
        "outputId": "c539ba2f-9a44-4173-d525-3195e8f2bdcb",
        "colab": {
          "base_uri": "https://localhost:8080/"
        }
      },
      "source": [
        "np.shape(riesgo_tp)"
      ],
      "execution_count": null,
      "outputs": [
        {
          "output_type": "execute_result",
          "data": {
            "text/plain": [
              "(15912, 27)"
            ]
          },
          "metadata": {
            "tags": []
          },
          "execution_count": 11
        }
      ]
    },
    {
      "cell_type": "code",
      "metadata": {
        "id": "sbNjAkaQ7Ftx",
        "outputId": "05a5ce5c-8caa-4227-a3b5-09a198807b75",
        "colab": {
          "base_uri": "https://localhost:8080/"
        }
      },
      "source": [
        "riesgo_tp.columns.tolist()"
      ],
      "execution_count": null,
      "outputs": [
        {
          "output_type": "execute_result",
          "data": {
            "text/plain": [
              "['cod_provincia',\n",
              " 'Tipo_Vivienda',\n",
              " 'tipo_hogar',\n",
              " 'Ingresos_Hogar',\n",
              " 'AUH',\n",
              " 'Sexo',\n",
              " 'Edad',\n",
              " 'Situacion_Conyugal',\n",
              " 'nivel_instruccion',\n",
              " 'condicion_actividad',\n",
              " 'Salud_General',\n",
              " 'cobertura_salud',\n",
              " 'Actividad_Fisica_PorSemana',\n",
              " 'barreras_actividad_fisica',\n",
              " 'Fumo_Cigarrillo',\n",
              " 'Cantidad_Diagnosticos_PresionAlta',\n",
              " 'Peso',\n",
              " 'Altura',\n",
              " 'Cantidad_Dias_Verdura',\n",
              " 'Alimentacion',\n",
              " 'Colesterol',\n",
              " 'Bebio_Alcohol',\n",
              " 'Diabetes',\n",
              " 'Masa_Corporal',\n",
              " 'promedio_sistolica',\n",
              " 'promedio_diastolica',\n",
              " 'Presion_Arterial']"
            ]
          },
          "metadata": {
            "tags": []
          },
          "execution_count": 12
        }
      ]
    },
    {
      "cell_type": "code",
      "metadata": {
        "id": "7KL7TelU7Ft0"
      },
      "source": [
        "riesgo_tp = riesgo_tp[riesgo_tp.Diabetes != 'NS/NC']"
      ],
      "execution_count": null,
      "outputs": []
    },
    {
      "cell_type": "code",
      "metadata": {
        "id": "zhzn7Z3s7Ft2"
      },
      "source": [
        "riesgo_tp = riesgo_tp[riesgo_tp.Colesterol != 'NS/NC']"
      ],
      "execution_count": null,
      "outputs": []
    },
    {
      "cell_type": "code",
      "metadata": {
        "id": "x0wUDKC07Ft6"
      },
      "source": [
        "riesgo_tp = riesgo_tp[riesgo_tp.Fumo_Cigarrillo != 'NS/NC']"
      ],
      "execution_count": null,
      "outputs": []
    },
    {
      "cell_type": "code",
      "metadata": {
        "id": "OAaTu0wT7Ft-"
      },
      "source": [
        "riesgo_tp = riesgo_tp[riesgo_tp.Bebio_Alcohol!= 'NS/NC']"
      ],
      "execution_count": null,
      "outputs": []
    },
    {
      "cell_type": "code",
      "metadata": {
        "id": "qZaKgZ8IkOWZ",
        "outputId": "f972c22d-2020-403d-e066-688bfb32d5a5",
        "colab": {
          "base_uri": "https://localhost:8080/",
          "height": 317
        }
      },
      "source": [
        "riesgo_tp.describe()"
      ],
      "execution_count": null,
      "outputs": [
        {
          "output_type": "execute_result",
          "data": {
            "text/html": [
              "<div>\n",
              "<style scoped>\n",
              "    .dataframe tbody tr th:only-of-type {\n",
              "        vertical-align: middle;\n",
              "    }\n",
              "\n",
              "    .dataframe tbody tr th {\n",
              "        vertical-align: top;\n",
              "    }\n",
              "\n",
              "    .dataframe thead th {\n",
              "        text-align: right;\n",
              "    }\n",
              "</style>\n",
              "<table border=\"1\" class=\"dataframe\">\n",
              "  <thead>\n",
              "    <tr style=\"text-align: right;\">\n",
              "      <th></th>\n",
              "      <th>Ingresos_Hogar</th>\n",
              "      <th>Edad</th>\n",
              "      <th>cobertura_salud</th>\n",
              "      <th>Actividad_Fisica_PorSemana</th>\n",
              "      <th>barreras_actividad_fisica</th>\n",
              "      <th>Peso</th>\n",
              "      <th>Altura</th>\n",
              "      <th>Cantidad_Dias_Verdura</th>\n",
              "      <th>Masa_Corporal</th>\n",
              "      <th>promedio_sistolica</th>\n",
              "      <th>promedio_diastolica</th>\n",
              "    </tr>\n",
              "  </thead>\n",
              "  <tbody>\n",
              "    <tr>\n",
              "      <th>count</th>\n",
              "      <td>15611.000000</td>\n",
              "      <td>15611.000000</td>\n",
              "      <td>15611.000000</td>\n",
              "      <td>15611.000000</td>\n",
              "      <td>15611.000000</td>\n",
              "      <td>15611.000000</td>\n",
              "      <td>15611.000000</td>\n",
              "      <td>15611.000000</td>\n",
              "      <td>15611.000000</td>\n",
              "      <td>15611.000000</td>\n",
              "      <td>15611.000000</td>\n",
              "    </tr>\n",
              "    <tr>\n",
              "      <th>mean</th>\n",
              "      <td>22123.952341</td>\n",
              "      <td>46.150919</td>\n",
              "      <td>1.318045</td>\n",
              "      <td>0.719685</td>\n",
              "      <td>5.159951</td>\n",
              "      <td>76.088207</td>\n",
              "      <td>164.127410</td>\n",
              "      <td>4.587663</td>\n",
              "      <td>28.218928</td>\n",
              "      <td>130.522836</td>\n",
              "      <td>84.097175</td>\n",
              "    </tr>\n",
              "    <tr>\n",
              "      <th>std</th>\n",
              "      <td>19291.209731</td>\n",
              "      <td>17.901357</td>\n",
              "      <td>0.465732</td>\n",
              "      <td>1.578185</td>\n",
              "      <td>4.044243</td>\n",
              "      <td>17.358849</td>\n",
              "      <td>9.686983</td>\n",
              "      <td>2.203642</td>\n",
              "      <td>5.894679</td>\n",
              "      <td>20.812367</td>\n",
              "      <td>12.509259</td>\n",
              "    </tr>\n",
              "    <tr>\n",
              "      <th>min</th>\n",
              "      <td>0.000000</td>\n",
              "      <td>18.000000</td>\n",
              "      <td>1.000000</td>\n",
              "      <td>0.000000</td>\n",
              "      <td>1.000000</td>\n",
              "      <td>33.000000</td>\n",
              "      <td>114.000000</td>\n",
              "      <td>0.000000</td>\n",
              "      <td>14.150000</td>\n",
              "      <td>67.000000</td>\n",
              "      <td>31.000000</td>\n",
              "    </tr>\n",
              "    <tr>\n",
              "      <th>25%</th>\n",
              "      <td>10000.000000</td>\n",
              "      <td>31.000000</td>\n",
              "      <td>1.000000</td>\n",
              "      <td>0.000000</td>\n",
              "      <td>1.000000</td>\n",
              "      <td>64.000000</td>\n",
              "      <td>157.000000</td>\n",
              "      <td>3.000000</td>\n",
              "      <td>24.020000</td>\n",
              "      <td>116.000000</td>\n",
              "      <td>75.500000</td>\n",
              "    </tr>\n",
              "    <tr>\n",
              "      <th>50%</th>\n",
              "      <td>17000.000000</td>\n",
              "      <td>44.000000</td>\n",
              "      <td>1.000000</td>\n",
              "      <td>0.000000</td>\n",
              "      <td>5.000000</td>\n",
              "      <td>74.000000</td>\n",
              "      <td>164.000000</td>\n",
              "      <td>5.000000</td>\n",
              "      <td>27.430000</td>\n",
              "      <td>127.000000</td>\n",
              "      <td>83.000000</td>\n",
              "    </tr>\n",
              "    <tr>\n",
              "      <th>75%</th>\n",
              "      <td>30000.000000</td>\n",
              "      <td>60.000000</td>\n",
              "      <td>2.000000</td>\n",
              "      <td>0.000000</td>\n",
              "      <td>9.000000</td>\n",
              "      <td>86.000000</td>\n",
              "      <td>171.000000</td>\n",
              "      <td>7.000000</td>\n",
              "      <td>31.550000</td>\n",
              "      <td>141.500000</td>\n",
              "      <td>91.500000</td>\n",
              "    </tr>\n",
              "    <tr>\n",
              "      <th>max</th>\n",
              "      <td>350000.000000</td>\n",
              "      <td>104.000000</td>\n",
              "      <td>2.000000</td>\n",
              "      <td>7.000000</td>\n",
              "      <td>13.000000</td>\n",
              "      <td>200.000000</td>\n",
              "      <td>201.000000</td>\n",
              "      <td>7.000000</td>\n",
              "      <td>86.570000</td>\n",
              "      <td>249.000000</td>\n",
              "      <td>167.500000</td>\n",
              "    </tr>\n",
              "  </tbody>\n",
              "</table>\n",
              "</div>"
            ],
            "text/plain": [
              "       Ingresos_Hogar          Edad  ...  promedio_sistolica  promedio_diastolica\n",
              "count    15611.000000  15611.000000  ...        15611.000000         15611.000000\n",
              "mean     22123.952341     46.150919  ...          130.522836            84.097175\n",
              "std      19291.209731     17.901357  ...           20.812367            12.509259\n",
              "min          0.000000     18.000000  ...           67.000000            31.000000\n",
              "25%      10000.000000     31.000000  ...          116.000000            75.500000\n",
              "50%      17000.000000     44.000000  ...          127.000000            83.000000\n",
              "75%      30000.000000     60.000000  ...          141.500000            91.500000\n",
              "max     350000.000000    104.000000  ...          249.000000           167.500000\n",
              "\n",
              "[8 rows x 11 columns]"
            ]
          },
          "metadata": {
            "tags": []
          },
          "execution_count": 17
        }
      ]
    },
    {
      "cell_type": "code",
      "metadata": {
        "id": "HT0-kA5k7FuC",
        "outputId": "4e27f146-2b3d-420a-e6fa-abd9c8ba330a",
        "colab": {
          "base_uri": "https://localhost:8080/"
        }
      },
      "source": [
        "np.shape(riesgo_tp)"
      ],
      "execution_count": null,
      "outputs": [
        {
          "output_type": "execute_result",
          "data": {
            "text/plain": [
              "(15611, 27)"
            ]
          },
          "metadata": {
            "tags": []
          },
          "execution_count": 18
        }
      ]
    },
    {
      "cell_type": "code",
      "metadata": {
        "id": "17_Ai08o7FuE"
      },
      "source": [
        "y = riesgo_tp['promedio_sistolica']"
      ],
      "execution_count": null,
      "outputs": []
    },
    {
      "cell_type": "code",
      "metadata": {
        "id": "vDcgU2Pq7FuK"
      },
      "source": [
        "Provincia=pd.get_dummies(riesgo_tp.cod_provincia)\n",
        "Edad=riesgo_tp.Edad\n",
        "Peso=riesgo_tp.Peso\n",
        "Altura=riesgo_tp.Altura\n",
        "Actividad_Fisica=riesgo_tp.Actividad_Fisica_PorSemana\n",
        "Sexo = pd.get_dummies(riesgo_tp.Sexo)\n",
        "Presion=riesgo_tp.promedio_sistolica\n",
        "Cigarrillo=pd.get_dummies(riesgo_tp.Fumo_Cigarrillo)\n",
        "Alcohol=pd.get_dummies(riesgo_tp.Bebio_Alcohol)\n",
        "Ingresos=riesgo_tp.Ingresos_Hogar\n",
        "Trabajo=pd.get_dummies(riesgo_tp.condicion_actividad)\n",
        "Verdura=riesgo_tp.Cantidad_Dias_Verdura\n",
        "Colesterol=pd.get_dummies(riesgo_tp.Colesterol)\n",
        "Diabetes=pd.get_dummies(riesgo_tp.Diabetes)\n"
      ],
      "execution_count": null,
      "outputs": []
    },
    {
      "cell_type": "code",
      "metadata": {
        "id": "Fg7h2Dqd7FuN",
        "outputId": "bb67f078-e76b-46c4-c560-fa7ff1e5bbb2",
        "colab": {
          "base_uri": "https://localhost:8080/",
          "height": 204
        }
      },
      "source": [
        "x = pd.concat([Edad,Altura,Peso,Actividad_Fisica,Sexo,Cigarrillo, Colesterol, Diabetes], axis = 1)\n",
        "x.head()\n",
        "\n"
      ],
      "execution_count": null,
      "outputs": [
        {
          "output_type": "execute_result",
          "data": {
            "text/html": [
              "<div>\n",
              "<style scoped>\n",
              "    .dataframe tbody tr th:only-of-type {\n",
              "        vertical-align: middle;\n",
              "    }\n",
              "\n",
              "    .dataframe tbody tr th {\n",
              "        vertical-align: top;\n",
              "    }\n",
              "\n",
              "    .dataframe thead th {\n",
              "        text-align: right;\n",
              "    }\n",
              "</style>\n",
              "<table border=\"1\" class=\"dataframe\">\n",
              "  <thead>\n",
              "    <tr style=\"text-align: right;\">\n",
              "      <th></th>\n",
              "      <th>Edad</th>\n",
              "      <th>Altura</th>\n",
              "      <th>Peso</th>\n",
              "      <th>Actividad_Fisica_PorSemana</th>\n",
              "      <th>Hombre</th>\n",
              "      <th>Mujer</th>\n",
              "      <th>No</th>\n",
              "      <th>Si</th>\n",
              "      <th>No</th>\n",
              "      <th>Si</th>\n",
              "      <th>No</th>\n",
              "      <th>Si</th>\n",
              "    </tr>\n",
              "  </thead>\n",
              "  <tbody>\n",
              "    <tr>\n",
              "      <th>0</th>\n",
              "      <td>32</td>\n",
              "      <td>181.0</td>\n",
              "      <td>106.0</td>\n",
              "      <td>4</td>\n",
              "      <td>1</td>\n",
              "      <td>0</td>\n",
              "      <td>1</td>\n",
              "      <td>0</td>\n",
              "      <td>1</td>\n",
              "      <td>0</td>\n",
              "      <td>1</td>\n",
              "      <td>0</td>\n",
              "    </tr>\n",
              "    <tr>\n",
              "      <th>7</th>\n",
              "      <td>42</td>\n",
              "      <td>159.0</td>\n",
              "      <td>58.0</td>\n",
              "      <td>0</td>\n",
              "      <td>0</td>\n",
              "      <td>1</td>\n",
              "      <td>0</td>\n",
              "      <td>1</td>\n",
              "      <td>0</td>\n",
              "      <td>1</td>\n",
              "      <td>1</td>\n",
              "      <td>0</td>\n",
              "    </tr>\n",
              "    <tr>\n",
              "      <th>8</th>\n",
              "      <td>32</td>\n",
              "      <td>184.0</td>\n",
              "      <td>71.0</td>\n",
              "      <td>0</td>\n",
              "      <td>1</td>\n",
              "      <td>0</td>\n",
              "      <td>0</td>\n",
              "      <td>1</td>\n",
              "      <td>1</td>\n",
              "      <td>0</td>\n",
              "      <td>1</td>\n",
              "      <td>0</td>\n",
              "    </tr>\n",
              "    <tr>\n",
              "      <th>11</th>\n",
              "      <td>76</td>\n",
              "      <td>164.0</td>\n",
              "      <td>95.0</td>\n",
              "      <td>0</td>\n",
              "      <td>1</td>\n",
              "      <td>0</td>\n",
              "      <td>1</td>\n",
              "      <td>0</td>\n",
              "      <td>1</td>\n",
              "      <td>0</td>\n",
              "      <td>1</td>\n",
              "      <td>0</td>\n",
              "    </tr>\n",
              "    <tr>\n",
              "      <th>13</th>\n",
              "      <td>63</td>\n",
              "      <td>168.0</td>\n",
              "      <td>86.0</td>\n",
              "      <td>0</td>\n",
              "      <td>0</td>\n",
              "      <td>1</td>\n",
              "      <td>0</td>\n",
              "      <td>1</td>\n",
              "      <td>1</td>\n",
              "      <td>0</td>\n",
              "      <td>0</td>\n",
              "      <td>1</td>\n",
              "    </tr>\n",
              "  </tbody>\n",
              "</table>\n",
              "</div>"
            ],
            "text/plain": [
              "    Edad  Altura   Peso  Actividad_Fisica_PorSemana  Hombre  ...  Si  No  Si  No  Si\n",
              "0     32   181.0  106.0                           4       1  ...   0   1   0   1   0\n",
              "7     42   159.0   58.0                           0       0  ...   1   0   1   1   0\n",
              "8     32   184.0   71.0                           0       1  ...   1   1   0   1   0\n",
              "11    76   164.0   95.0                           0       1  ...   0   1   0   1   0\n",
              "13    63   168.0   86.0                           0       0  ...   1   1   0   0   1\n",
              "\n",
              "[5 rows x 12 columns]"
            ]
          },
          "metadata": {
            "tags": []
          },
          "execution_count": 21
        }
      ]
    },
    {
      "cell_type": "code",
      "metadata": {
        "id": "oS0SI1BT7FuR"
      },
      "source": [
        "xtrain, xtest, ytrain, ytest = train_test_split(x, y, test_size=0.15, random_state=0)"
      ],
      "execution_count": null,
      "outputs": []
    },
    {
      "cell_type": "code",
      "metadata": {
        "id": "zJasNx027FuU",
        "outputId": "aca68169-dc4e-43a9-8059-f188f6175bca",
        "colab": {
          "base_uri": "https://localhost:8080/"
        }
      },
      "source": [
        "scaler = preprocessing.StandardScaler().fit(xtrain)\n",
        "scaler"
      ],
      "execution_count": null,
      "outputs": [
        {
          "output_type": "execute_result",
          "data": {
            "text/plain": [
              "StandardScaler(copy=True, with_mean=True, with_std=True)"
            ]
          },
          "metadata": {
            "tags": []
          },
          "execution_count": 23
        }
      ]
    },
    {
      "cell_type": "code",
      "metadata": {
        "id": "6xW-SqFE7FuW"
      },
      "source": [
        "# auto scalo mis muestras de train utilizando el scaler fiteado con el xtrain\n",
        "xtrain_scal = scaler.transform(xtrain) "
      ],
      "execution_count": null,
      "outputs": []
    },
    {
      "cell_type": "code",
      "metadata": {
        "id": "BLOqHGut7FuY"
      },
      "source": [
        "# auto scalo mis muestras de test utilizando el scaler fiteado con el xtrain\n",
        "xtest_scal = scaler.transform(xtest) "
      ],
      "execution_count": null,
      "outputs": []
    },
    {
      "cell_type": "code",
      "metadata": {
        "id": "ZujbuN9RifPb"
      },
      "source": [
        "results_df = pd.DataFrame(columns=['Model','R2','MSE','MAE'])"
      ],
      "execution_count": null,
      "outputs": []
    },
    {
      "cell_type": "markdown",
      "metadata": {
        "id": "KB_wy8Ljh-Kr"
      },
      "source": [
        "### SVR"
      ]
    },
    {
      "cell_type": "code",
      "metadata": {
        "id": "gqIe17Ad7Fub"
      },
      "source": [
        "est = SVR(max_iter=25000)\n",
        "parameters_svr_rbf = {'kernel':['linear', 'rbf'] , 'C': [1,100],'gamma': [0.1,0.5]}\n",
        "gs = GridSearchCV(est, param_grid=parameters_svr_rbf,refit=True,\n",
        "                  cv=5, scoring=\"neg_mean_squared_error\",\n",
        "                  verbose=3, n_jobs=3)"
      ],
      "execution_count": null,
      "outputs": []
    },
    {
      "cell_type": "code",
      "metadata": {
        "id": "5Er3ssIb7Fuh",
        "outputId": "0ae6993a-5dea-4041-c68f-82ed3201e4a1",
        "colab": {
          "base_uri": "https://localhost:8080/"
        }
      },
      "source": [
        "# Entrenamos\n",
        "gs.fit(xtrain_scal, ytrain)"
      ],
      "execution_count": null,
      "outputs": [
        {
          "output_type": "stream",
          "text": [
            "Fitting 5 folds for each of 8 candidates, totalling 40 fits\n"
          ],
          "name": "stdout"
        },
        {
          "output_type": "stream",
          "text": [
            "[Parallel(n_jobs=3)]: Using backend LokyBackend with 3 concurrent workers.\n",
            "[Parallel(n_jobs=3)]: Done  26 tasks      | elapsed:  2.8min\n",
            "[Parallel(n_jobs=3)]: Done  40 out of  40 | elapsed:  4.8min finished\n"
          ],
          "name": "stderr"
        },
        {
          "output_type": "execute_result",
          "data": {
            "text/plain": [
              "GridSearchCV(cv=5, error_score=nan,\n",
              "             estimator=SVR(C=1.0, cache_size=200, coef0=0.0, degree=3,\n",
              "                           epsilon=0.1, gamma='scale', kernel='rbf',\n",
              "                           max_iter=25000, shrinking=True, tol=0.001,\n",
              "                           verbose=False),\n",
              "             iid='deprecated', n_jobs=3,\n",
              "             param_grid={'C': [1, 100], 'gamma': [0.1, 0.5],\n",
              "                         'kernel': ['linear', 'rbf']},\n",
              "             pre_dispatch='2*n_jobs', refit=True, return_train_score=False,\n",
              "             scoring='neg_mean_squared_error', verbose=3)"
            ]
          },
          "metadata": {
            "tags": []
          },
          "execution_count": 28
        }
      ]
    },
    {
      "cell_type": "code",
      "metadata": {
        "id": "VU3iopkw7Fuk",
        "outputId": "48eef762-4c59-4b60-e18b-117a4266dcbb",
        "colab": {
          "base_uri": "https://localhost:8080/"
        }
      },
      "source": [
        "print(gs.best_estimator_, \"\\n\")\n",
        "print(gs.best_params_, \"\\n\")\n",
        "print(gs.best_score_, \"\\n\")"
      ],
      "execution_count": null,
      "outputs": [
        {
          "output_type": "stream",
          "text": [
            "SVR(C=1, cache_size=200, coef0=0.0, degree=3, epsilon=0.1, gamma=0.1,\n",
            "    kernel='rbf', max_iter=25000, shrinking=True, tol=0.001, verbose=False) \n",
            "\n",
            "{'C': 1, 'gamma': 0.1, 'kernel': 'rbf'} \n",
            "\n",
            "-322.8015892732232 \n",
            "\n"
          ],
          "name": "stdout"
        }
      ]
    },
    {
      "cell_type": "code",
      "metadata": {
        "id": "-XlQeu_17Fun",
        "outputId": "f4f496e2-86ce-4967-8c0f-876cf9944567",
        "colab": {
          "base_uri": "https://localhost:8080/"
        }
      },
      "source": [
        "svr_prediction = gs.best_estimator_.predict(xtest_scal)\n",
        "svr_prediction"
      ],
      "execution_count": null,
      "outputs": [
        {
          "output_type": "execute_result",
          "data": {
            "text/plain": [
              "array([121.98990402, 131.23029034, 133.33856856, ..., 125.4181562 ,\n",
              "       137.46385297, 125.23709239])"
            ]
          },
          "metadata": {
            "tags": []
          },
          "execution_count": 30
        }
      ]
    },
    {
      "cell_type": "code",
      "metadata": {
        "id": "gCqeVIiT7Fup"
      },
      "source": [
        "svr_r2 = r2_score(y_true=ytest, y_pred=svr_prediction)\n",
        "svr_mse = mean_squared_error(y_true=ytest, y_pred=svr_prediction)\n",
        "svr_mae = mean_absolute_error(y_true=ytest, y_pred=svr_prediction)"
      ],
      "execution_count": null,
      "outputs": []
    },
    {
      "cell_type": "code",
      "metadata": {
        "id": "7_kQyzmi7Fur",
        "outputId": "ad3abf46-76ec-4206-ce1f-1fc6521a71fb",
        "colab": {
          "base_uri": "https://localhost:8080/",
          "height": 330
        }
      },
      "source": [
        "plt.scatter(svr_prediction, ytest)\n",
        "plt.plot(np.arange(100,160),np.arange(100,160), 'r', label='Identity')\n",
        "plt.xlabel('Predictions')\n",
        "plt.ylabel('True Values')\n",
        "plt.legend()\n",
        "print(f'R2 score: {svr_r2:.6f}')\n",
        "print(f'MSE: {svr_mse:.6f}')\n",
        "print(f'MAE: {svr_mae:.6f}')"
      ],
      "execution_count": null,
      "outputs": [
        {
          "output_type": "stream",
          "text": [
            "R2 score: 0.241406\n",
            "MSE: 333.135454\n",
            "MAE: 13.290861\n"
          ],
          "name": "stdout"
        },
        {
          "output_type": "display_data",
          "data": {
            "image/png": "[encoded data removed]",
            "text/plain": [
              "<Figure size 432x288 with 1 Axes>"
            ]
          },
          "metadata": {
            "tags": [],
            "needs_background": "light"
          }
        }
      ]
    },
    {
      "cell_type": "code",
      "metadata": {
        "id": "XR2pb6JaitXz"
      },
      "source": [
        "results_df = results_df.append({'Model':'SVR',\n",
        "                                'R2':svr_r2,\n",
        "                                'MSE':svr_mse,\n",
        "                                'MAE':svr_mae},ignore_index=True)"
      ],
      "execution_count": null,
      "outputs": []
    },
    {
      "cell_type": "markdown",
      "metadata": {
        "id": "pQRjz67k7Fuw"
      },
      "source": [
        "### KNN"
      ]
    },
    {
      "cell_type": "code",
      "metadata": {
        "id": "Kmuh-mVo7Fux"
      },
      "source": [
        "knn = KNeighborsRegressor()"
      ],
      "execution_count": null,
      "outputs": []
    },
    {
      "cell_type": "code",
      "metadata": {
        "id": "9zluK8f17Fuz"
      },
      "source": [
        "parameters_k = np.arange(20,31,5)\n",
        "parameters_knn = [{'n_neighbors': parameters_k}]"
      ],
      "execution_count": null,
      "outputs": []
    },
    {
      "cell_type": "code",
      "metadata": {
        "id": "ZBsuV2437Fu1"
      },
      "source": [
        "gs_knn=GridSearchCV(knn,param_grid=parameters_knn,refit=True,\n",
        "                  cv=5, scoring=\"neg_mean_squared_error\",\n",
        "                  verbose=3, n_jobs=3)"
      ],
      "execution_count": null,
      "outputs": []
    },
    {
      "cell_type": "code",
      "metadata": {
        "id": "6RlCG_Qm7Fu3",
        "outputId": "69e377b8-a90d-4558-8ef2-9b2e65ac3ad3",
        "colab": {
          "base_uri": "https://localhost:8080/"
        }
      },
      "source": [
        "# Entrenamos\n",
        "gs_knn.fit(xtrain_scal, ytrain)"
      ],
      "execution_count": null,
      "outputs": [
        {
          "output_type": "stream",
          "text": [
            "Fitting 5 folds for each of 3 candidates, totalling 15 fits\n"
          ],
          "name": "stdout"
        },
        {
          "output_type": "stream",
          "text": [
            "[Parallel(n_jobs=3)]: Using backend LokyBackend with 3 concurrent workers.\n",
            "[Parallel(n_jobs=3)]: Done  15 out of  15 | elapsed:    2.8s finished\n"
          ],
          "name": "stderr"
        },
        {
          "output_type": "execute_result",
          "data": {
            "text/plain": [
              "GridSearchCV(cv=5, error_score=nan,\n",
              "             estimator=KNeighborsRegressor(algorithm='auto', leaf_size=30,\n",
              "                                           metric='minkowski',\n",
              "                                           metric_params=None, n_jobs=None,\n",
              "                                           n_neighbors=5, p=2,\n",
              "                                           weights='uniform'),\n",
              "             iid='deprecated', n_jobs=3,\n",
              "             param_grid=[{'n_neighbors': array([20, 25, 30])}],\n",
              "             pre_dispatch='2*n_jobs', refit=True, return_train_score=False,\n",
              "             scoring='neg_mean_squared_error', verbose=3)"
            ]
          },
          "metadata": {
            "tags": []
          },
          "execution_count": 37
        }
      ]
    },
    {
      "cell_type": "code",
      "metadata": {
        "id": "QFSp0hOk7Fu7",
        "outputId": "6a528173-b966-4c61-848c-f14f5058f91e",
        "colab": {
          "base_uri": "https://localhost:8080/"
        }
      },
      "source": [
        "print(gs_knn.best_estimator_, \"\\n\")\n",
        "print(gs_knn.best_params_, \"\\n\")\n",
        "print(gs_knn.best_score_, \"\\n\")"
      ],
      "execution_count": null,
      "outputs": [
        {
          "output_type": "stream",
          "text": [
            "KNeighborsRegressor(algorithm='auto', leaf_size=30, metric='minkowski',\n",
            "                    metric_params=None, n_jobs=None, n_neighbors=30, p=2,\n",
            "                    weights='uniform') \n",
            "\n",
            "{'n_neighbors': 30} \n",
            "\n",
            "-324.543219797943 \n",
            "\n"
          ],
          "name": "stdout"
        }
      ]
    },
    {
      "cell_type": "code",
      "metadata": {
        "id": "YjvzaJ2J7Fu9"
      },
      "source": [
        "knn_prediction = gs_knn.best_estimator_.predict(xtest_scal)\n",
        "knn_r2 = r2_score(y_true=ytest, y_pred=knn_prediction)\n",
        "knn_mse = mean_squared_error(y_true=ytest, y_pred=knn_prediction)\n",
        "knn_mae = mean_absolute_error(y_true=ytest, y_pred=knn_prediction)"
      ],
      "execution_count": null,
      "outputs": []
    },
    {
      "cell_type": "code",
      "metadata": {
        "id": "_-ghy4XH7FvA",
        "outputId": "22744b46-78c3-4b66-d40e-11fbe72ab038",
        "colab": {
          "base_uri": "https://localhost:8080/"
        }
      },
      "source": [
        "plt.scatter(knn_prediction, ytest)\n",
        "plt.plot(np.arange(100,170),np.arange(100,170), 'r', label='Identity')\n",
        "plt.xlabel('Predictions')\n",
        "plt.ylabel('True Values')\n",
        "plt.legend()\n",
        "print(f'R2 score: {knn_r2:.6f}')\n",
        "print(f'MSE: {knn_mse:.6f}')\n",
        "print(f'MAE: {knn_mae:.6f}')"
      ],
      "execution_count": null,
      "outputs": [
        {
          "output_type": "stream",
          "text": [
            "R2 score: 0.238448\n",
            "MSE: 334.434778\n",
            "MAE: 13.561749\n"
          ],
          "name": "stdout"
        },
        {
          "output_type": "display_data",
          "data": {
            "image/png": "[encoded data removed]",
            "text/plain": [
              "<Figure size 432x288 with 1 Axes>"
            ]
          },
          "metadata": {
            "tags": [],
            "needs_background": "light"
          }
        }
      ]
    },
    {
      "cell_type": "code",
      "metadata": {
        "id": "Ts3ZQvp3jOWA"
      },
      "source": [
        "results_df = results_df.append({'Model':'KNN',\n",
        "                                'R2':knn_r2,\n",
        "                                'MSE':knn_mse,\n",
        "                                'MAE':knn_mae},ignore_index=True)"
      ],
      "execution_count": null,
      "outputs": []
    },
    {
      "cell_type": "code",
      "metadata": {
        "id": "prt2-0z7jdJJ",
        "outputId": "0e4bb90d-e478-4c53-bdc3-dc96f5babe15",
        "colab": {
          "base_uri": "https://localhost:8080/"
        }
      },
      "source": [
        "results_df"
      ],
      "execution_count": null,
      "outputs": [
        {
          "output_type": "execute_result",
          "data": {
            "text/html": [
              "<div>\n",
              "<style scoped>\n",
              "    .dataframe tbody tr th:only-of-type {\n",
              "        vertical-align: middle;\n",
              "    }\n",
              "\n",
              "    .dataframe tbody tr th {\n",
              "        vertical-align: top;\n",
              "    }\n",
              "\n",
              "    .dataframe thead th {\n",
              "        text-align: right;\n",
              "    }\n",
              "</style>\n",
              "<table border=\"1\" class=\"dataframe\">\n",
              "  <thead>\n",
              "    <tr style=\"text-align: right;\">\n",
              "      <th></th>\n",
              "      <th>Model</th>\n",
              "      <th>R2</th>\n",
              "      <th>MSE</th>\n",
              "      <th>MAE</th>\n",
              "    </tr>\n",
              "  </thead>\n",
              "  <tbody>\n",
              "    <tr>\n",
              "      <th>0</th>\n",
              "      <td>SVR</td>\n",
              "      <td>0.241406</td>\n",
              "      <td>333.135454</td>\n",
              "      <td>13.290861</td>\n",
              "    </tr>\n",
              "    <tr>\n",
              "      <th>1</th>\n",
              "      <td>KNN</td>\n",
              "      <td>0.238448</td>\n",
              "      <td>334.434778</td>\n",
              "      <td>13.561749</td>\n",
              "    </tr>\n",
              "  </tbody>\n",
              "</table>\n",
              "</div>"
            ],
            "text/plain": [
              "  Model        R2         MSE        MAE\n",
              "0   SVR  0.241406  333.135454  13.290861\n",
              "1   KNN  0.238448  334.434778  13.561749"
            ]
          },
          "metadata": {
            "tags": []
          },
          "execution_count": 42
        }
      ]
    },
    {
      "cell_type": "code",
      "metadata": {
        "id": "4O4w0jrVje0-"
      },
      "source": [
        ""
      ],
      "execution_count": null,
      "outputs": []
    },
    {
      "cell_type": "code",
      "metadata": {
        "id": "ez-nuYwxAS4x"
      },
      "source": [
        ""
      ],
      "execution_count": null,
      "outputs": []
    }
  ]
}